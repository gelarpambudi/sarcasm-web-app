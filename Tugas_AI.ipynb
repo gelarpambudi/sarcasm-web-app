{
  "nbformat": 4,
  "nbformat_minor": 0,
  "metadata": {
    "colab": {
      "name": "Tugas AI.ipynb",
      "provenance": []
    },
    "kernelspec": {
      "name": "python3",
      "display_name": "Python 3"
    },
    "accelerator": "GPU"
  },
  "cells": [
    {
      "cell_type": "code",
      "metadata": {
        "id": "PjihsnoD2EX0",
        "colab": {
          "base_uri": "https://localhost:8080/"
        },
        "outputId": "3e8bc63e-792f-4b39-d527-04f5db33066d"
      },
      "source": [
        "from google.colab import drive\n",
        "drive.mount('/content/drive')"
      ],
      "execution_count": null,
      "outputs": [
        {
          "output_type": "stream",
          "text": [
            "Mounted at /content/drive\n"
          ],
          "name": "stdout"
        }
      ]
    },
    {
      "cell_type": "code",
      "metadata": {
        "id": "V_bsOWOmONDA",
        "colab": {
          "base_uri": "https://localhost:8080/"
        },
        "outputId": "3ad6df3e-6079-47a3-ebc2-bcdffa8ef5b8"
      },
      "source": [
        "import numpy as np\n",
        "import pickle\n",
        "import json\n",
        "import tensorflow as tf\n",
        "\n",
        "from tensorflow.keras.preprocessing.text import Tokenizer\n",
        "from tensorflow.keras.preprocessing.sequence import pad_sequences\n",
        "\n",
        "!wget --no-check-certificate \\\n",
        "    https://storage.googleapis.com/laurencemoroney-blog.appspot.com/sarcasm.json \\\n",
        "    -O /tmp/sarcasm.json\n",
        "\n",
        "with open(\"/tmp/sarcasm.json\", 'r') as file:\n",
        "    dataset = json.load(file)"
      ],
      "execution_count": null,
      "outputs": [
        {
          "output_type": "stream",
          "text": [
            "--2020-11-17 00:16:59--  https://storage.googleapis.com/laurencemoroney-blog.appspot.com/sarcasm.json\n",
            "Resolving storage.googleapis.com (storage.googleapis.com)... 172.217.2.112, 172.217.15.112, 142.250.73.208, ...\n",
            "Connecting to storage.googleapis.com (storage.googleapis.com)|172.217.2.112|:443... connected.\n",
            "HTTP request sent, awaiting response... 200 OK\n",
            "Length: 5643545 (5.4M) [application/json]\n",
            "Saving to: ‘/tmp/sarcasm.json’\n",
            "\n",
            "\r/tmp/sarcasm.json     0%[                    ]       0  --.-KB/s               \r/tmp/sarcasm.json   100%[===================>]   5.38M  --.-KB/s    in 0.02s   \n",
            "\n",
            "2020-11-17 00:16:59 (261 MB/s) - ‘/tmp/sarcasm.json’ saved [5643545/5643545]\n",
            "\n"
          ],
          "name": "stdout"
        }
      ]
    },
    {
      "cell_type": "code",
      "metadata": {
        "id": "xS-wHCN0gvUz"
      },
      "source": [
        "# fungsi untuk cek performa\n",
        "\n",
        "import matplotlib.pyplot as plt\n",
        "\n",
        "\n",
        "def plot_graphs(history, string):\n",
        "  plt.plot(history.history[string])\n",
        "  plt.plot(history.history['val_'+string])\n",
        "  plt.xlabel(\"Epochs\")\n",
        "  plt.ylabel(string)\n",
        "  plt.legend([string, 'val_'+string])\n",
        "  plt.show()"
      ],
      "execution_count": null,
      "outputs": []
    },
    {
      "cell_type": "code",
      "metadata": {
        "id": "kHpBdM7VR2ki",
        "colab": {
          "base_uri": "https://localhost:8080/"
        },
        "outputId": "665764a3-5e0a-492a-c106-5d5638a614be"
      },
      "source": [
        "dataset[0]"
      ],
      "execution_count": null,
      "outputs": [
        {
          "output_type": "execute_result",
          "data": {
            "text/plain": [
              "{'article_link': 'https://www.huffingtonpost.com/entry/versace-black-code_us_5861fbefe4b0de3a08f600d5',\n",
              " 'headline': \"former versace store clerk sues over secret 'black code' for minority shoppers\",\n",
              " 'is_sarcastic': 0}"
            ]
          },
          "metadata": {
            "tags": []
          },
          "execution_count": 4
        }
      ]
    },
    {
      "cell_type": "code",
      "metadata": {
        "id": "P1CsYQqYSr5S",
        "colab": {
          "base_uri": "https://localhost:8080/"
        },
        "outputId": "646bf41e-d505-4eac-8b1f-0a6fbaa4db65"
      },
      "source": [
        "len(dataset)"
      ],
      "execution_count": null,
      "outputs": [
        {
          "output_type": "execute_result",
          "data": {
            "text/plain": [
              "26709"
            ]
          },
          "metadata": {
            "tags": []
          },
          "execution_count": 5
        }
      ]
    },
    {
      "cell_type": "code",
      "metadata": {
        "id": "pO_0tF0USYUz"
      },
      "source": [
        "sentences = []\n",
        "labels = []\n",
        "urls = []\n",
        "for item in dataset:\n",
        "    sentences.append(item['headline'])\n",
        "    labels.append(item['is_sarcastic'])"
      ],
      "execution_count": null,
      "outputs": []
    },
    {
      "cell_type": "code",
      "metadata": {
        "id": "2PN53nvCS4fn"
      },
      "source": [
        "#Nanti make cross validation\n",
        "\n",
        "training_size = 20000\n",
        "\n",
        "training_sentences = sentences[0:training_size]\n",
        "testing_sentences = sentences[training_size:]\n",
        "training_labels = labels[0:training_size]\n",
        "testing_labels = labels[training_size:]"
      ],
      "execution_count": null,
      "outputs": []
    },
    {
      "cell_type": "code",
      "metadata": {
        "id": "0nqwZPqZTQFT"
      },
      "source": [
        "tokenizer = Tokenizer(num_words=10000, oov_token=\"<OOV>\")\n",
        "tokenizer.fit_on_texts(training_sentences)"
      ],
      "execution_count": null,
      "outputs": []
    },
    {
      "cell_type": "code",
      "metadata": {
        "id": "Z2ureRbdTkgv"
      },
      "source": [
        "#word_index = tokenizer.word_index\n",
        "#word_index\n",
        "pickle.dump(tokenizer, open('/content/drive/My Drive/tranform.pkl', 'wb'))"
      ],
      "execution_count": null,
      "outputs": []
    },
    {
      "cell_type": "code",
      "metadata": {
        "id": "e1yLXGvBUBXO",
        "colab": {
          "base_uri": "https://localhost:8080/"
        },
        "outputId": "c01a1fca-99d1-4044-f49b-fff9d231706f"
      },
      "source": [
        "training_sequences = tokenizer.texts_to_sequences(training_sentences)\n",
        "print(training_sentences[0])\n",
        "print(training_sequences[0])"
      ],
      "execution_count": null,
      "outputs": [
        {
          "output_type": "stream",
          "text": [
            "former versace store clerk sues over secret 'black code' for minority shoppers\n",
            "[328, 1, 799, 3405, 2404, 47, 389, 2214, 1, 6, 2614, 8863]\n"
          ],
          "name": "stdout"
        }
      ]
    },
    {
      "cell_type": "code",
      "metadata": {
        "id": "ogH2BEnLVOgR",
        "colab": {
          "base_uri": "https://localhost:8080/"
        },
        "outputId": "e90dba0a-9705-4511-d4ac-e7c57269525d"
      },
      "source": [
        "tokenizer.texts_to_sequences(['I love you'])  # kalo gak ada di kamus auto 1 (out of vocab)"
      ],
      "execution_count": null,
      "outputs": [
        {
          "output_type": "execute_result",
          "data": {
            "text/plain": [
              "[[88, 137, 18]]"
            ]
          },
          "metadata": {
            "tags": []
          },
          "execution_count": 11
        }
      ]
    },
    {
      "cell_type": "code",
      "metadata": {
        "id": "XunvIV01Ug1T",
        "colab": {
          "base_uri": "https://localhost:8080/"
        },
        "outputId": "6b7f9f3d-52b9-45ba-e093-6187416cc600"
      },
      "source": [
        "# padding kalimat\n",
        "\n",
        "training_padded = pad_sequences(training_sequences, maxlen=20, padding='post', truncating='post')\n",
        "training_padded[0]"
      ],
      "execution_count": null,
      "outputs": [
        {
          "output_type": "execute_result",
          "data": {
            "text/plain": [
              "array([ 328,    1,  799, 3405, 2404,   47,  389, 2214,    1,    6, 2614,\n",
              "       8863,    0,    0,    0,    0,    0,    0,    0,    0], dtype=int32)"
            ]
          },
          "metadata": {
            "tags": []
          },
          "execution_count": 12
        }
      ]
    },
    {
      "cell_type": "code",
      "metadata": {
        "id": "zayNS4MrSAyP"
      },
      "source": [
        "testing_sequences = tokenizer.texts_to_sequences(testing_sentences)\n",
        "testing_padded = pad_sequences(testing_sequences, maxlen=20, padding='post', truncating='post')"
      ],
      "execution_count": null,
      "outputs": []
    },
    {
      "cell_type": "code",
      "metadata": {
        "id": "Mo9lh0itWojy"
      },
      "source": [
        "# convert ke bentuk numpy agar bisa diproses model tensorflow\n",
        "\n",
        "training_padded = np.array(training_padded)\n",
        "training_labels = np.array(training_labels)\n",
        "testing_padded = np.array(testing_padded)\n",
        "testing_labels = np.array(testing_labels)"
      ],
      "execution_count": null,
      "outputs": []
    },
    {
      "cell_type": "markdown",
      "metadata": {
        "id": "E9V_RkeSWQZB"
      },
      "source": [
        "## Modeling LSTM"
      ]
    },
    {
      "cell_type": "code",
      "metadata": {
        "id": "aSdy4ta8WJi1",
        "colab": {
          "base_uri": "https://localhost:8080/"
        },
        "outputId": "e8f2d9ea-5565-479d-fce5-61d466919cc6"
      },
      "source": [
        "model = tf.keras.Sequential([\n",
        "    tf.keras.layers.Embedding(10000, 16, input_length=20),\n",
        "    tf.keras.layers.Bidirectional(tf.keras.layers.LSTM(32)),\n",
        "    tf.keras.layers.Dense(24, activation='relu'),\n",
        "    tf.keras.layers.Dense(1, activation='sigmoid')\n",
        "])\n",
        "\n",
        "model.compile(loss='binary_crossentropy',optimizer='adam',metrics=['accuracy'])\n",
        "\n",
        "num_epochs = 50\n",
        "\n",
        "#ubah ukuran batch\n",
        "\n",
        "history = model.fit(training_padded, training_labels, epochs=num_epochs, validation_data=(testing_padded, testing_labels), verbose=1)"
      ],
      "execution_count": null,
      "outputs": [
        {
          "output_type": "stream",
          "text": [
            "Epoch 1/50\n",
            "625/625 [==============================] - 5s 9ms/step - loss: 0.4147 - accuracy: 0.7922 - val_loss: 0.3345 - val_accuracy: 0.8569\n",
            "Epoch 2/50\n",
            "625/625 [==============================] - 5s 8ms/step - loss: 0.2275 - accuracy: 0.9060 - val_loss: 0.3394 - val_accuracy: 0.8556\n",
            "Epoch 3/50\n",
            "625/625 [==============================] - 5s 8ms/step - loss: 0.1612 - accuracy: 0.9387 - val_loss: 0.4132 - val_accuracy: 0.8484\n",
            "Epoch 4/50\n",
            "625/625 [==============================] - 5s 8ms/step - loss: 0.1185 - accuracy: 0.9573 - val_loss: 0.4611 - val_accuracy: 0.8460\n",
            "Epoch 5/50\n",
            "625/625 [==============================] - 5s 8ms/step - loss: 0.0834 - accuracy: 0.9701 - val_loss: 0.5303 - val_accuracy: 0.8419\n",
            "Epoch 6/50\n",
            "625/625 [==============================] - 5s 8ms/step - loss: 0.0565 - accuracy: 0.9815 - val_loss: 0.5679 - val_accuracy: 0.8368\n",
            "Epoch 7/50\n",
            "625/625 [==============================] - 5s 8ms/step - loss: 0.0402 - accuracy: 0.9865 - val_loss: 0.6581 - val_accuracy: 0.8395\n",
            "Epoch 8/50\n",
            "625/625 [==============================] - 5s 8ms/step - loss: 0.0284 - accuracy: 0.9907 - val_loss: 0.8115 - val_accuracy: 0.8311\n",
            "Epoch 9/50\n",
            "625/625 [==============================] - 5s 8ms/step - loss: 0.0181 - accuracy: 0.9944 - val_loss: 0.9562 - val_accuracy: 0.8319\n",
            "Epoch 10/50\n",
            "625/625 [==============================] - 5s 8ms/step - loss: 0.0152 - accuracy: 0.9946 - val_loss: 0.8949 - val_accuracy: 0.8335\n",
            "Epoch 11/50\n",
            "625/625 [==============================] - 5s 8ms/step - loss: 0.0136 - accuracy: 0.9956 - val_loss: 1.0578 - val_accuracy: 0.8268\n",
            "Epoch 12/50\n",
            "625/625 [==============================] - 5s 8ms/step - loss: 0.0111 - accuracy: 0.9961 - val_loss: 1.0719 - val_accuracy: 0.8302\n",
            "Epoch 13/50\n",
            "625/625 [==============================] - 5s 8ms/step - loss: 0.0084 - accuracy: 0.9970 - val_loss: 1.2051 - val_accuracy: 0.8311\n",
            "Epoch 14/50\n",
            "625/625 [==============================] - 5s 8ms/step - loss: 0.0076 - accuracy: 0.9979 - val_loss: 1.1599 - val_accuracy: 0.8323\n",
            "Epoch 15/50\n",
            "625/625 [==============================] - 5s 8ms/step - loss: 0.0080 - accuracy: 0.9979 - val_loss: 1.3680 - val_accuracy: 0.8283\n",
            "Epoch 16/50\n",
            "625/625 [==============================] - 5s 8ms/step - loss: 0.0046 - accuracy: 0.9985 - val_loss: 1.3753 - val_accuracy: 0.8322\n",
            "Epoch 17/50\n",
            "625/625 [==============================] - 5s 8ms/step - loss: 0.0093 - accuracy: 0.9967 - val_loss: 1.1558 - val_accuracy: 0.8323\n",
            "Epoch 18/50\n",
            "625/625 [==============================] - 5s 8ms/step - loss: 0.0062 - accuracy: 0.9981 - val_loss: 1.2898 - val_accuracy: 0.8304\n",
            "Epoch 19/50\n",
            "625/625 [==============================] - 5s 8ms/step - loss: 0.0046 - accuracy: 0.9987 - val_loss: 1.2534 - val_accuracy: 0.8271\n",
            "Epoch 20/50\n",
            "625/625 [==============================] - 5s 8ms/step - loss: 0.0048 - accuracy: 0.9985 - val_loss: 1.1889 - val_accuracy: 0.8269\n",
            "Epoch 21/50\n",
            "625/625 [==============================] - 5s 8ms/step - loss: 0.0032 - accuracy: 0.9990 - val_loss: 1.5045 - val_accuracy: 0.8278\n",
            "Epoch 22/50\n",
            "625/625 [==============================] - 5s 8ms/step - loss: 0.0027 - accuracy: 0.9991 - val_loss: 1.6235 - val_accuracy: 0.8228\n",
            "Epoch 23/50\n",
            "625/625 [==============================] - 5s 8ms/step - loss: 0.0051 - accuracy: 0.9984 - val_loss: 1.5871 - val_accuracy: 0.8259\n",
            "Epoch 24/50\n",
            "625/625 [==============================] - 5s 8ms/step - loss: 0.0024 - accuracy: 0.9991 - val_loss: 1.5730 - val_accuracy: 0.8304\n",
            "Epoch 25/50\n",
            "625/625 [==============================] - 5s 8ms/step - loss: 0.0042 - accuracy: 0.9984 - val_loss: 1.7065 - val_accuracy: 0.8241\n",
            "Epoch 26/50\n",
            "625/625 [==============================] - 5s 8ms/step - loss: 0.0030 - accuracy: 0.9989 - val_loss: 1.6246 - val_accuracy: 0.8275\n",
            "Epoch 27/50\n",
            "625/625 [==============================] - 5s 8ms/step - loss: 0.0018 - accuracy: 0.9995 - val_loss: 1.8404 - val_accuracy: 0.8229\n",
            "Epoch 28/50\n",
            "625/625 [==============================] - 5s 8ms/step - loss: 0.0022 - accuracy: 0.9994 - val_loss: 1.7774 - val_accuracy: 0.8240\n",
            "Epoch 29/50\n",
            "625/625 [==============================] - 5s 8ms/step - loss: 0.0052 - accuracy: 0.9983 - val_loss: 1.5130 - val_accuracy: 0.8253\n",
            "Epoch 30/50\n",
            "625/625 [==============================] - 5s 8ms/step - loss: 0.0015 - accuracy: 0.9995 - val_loss: 1.8391 - val_accuracy: 0.8237\n",
            "Epoch 31/50\n",
            "625/625 [==============================] - 5s 8ms/step - loss: 0.0014 - accuracy: 0.9995 - val_loss: 2.0020 - val_accuracy: 0.8199\n",
            "Epoch 32/50\n",
            "625/625 [==============================] - 5s 8ms/step - loss: 0.0012 - accuracy: 0.9996 - val_loss: 1.8338 - val_accuracy: 0.8214\n",
            "Epoch 33/50\n",
            "625/625 [==============================] - 5s 8ms/step - loss: 0.0023 - accuracy: 0.9991 - val_loss: 1.8058 - val_accuracy: 0.8243\n",
            "Epoch 34/50\n",
            "625/625 [==============================] - 5s 8ms/step - loss: 0.0045 - accuracy: 0.9987 - val_loss: 1.5645 - val_accuracy: 0.8258\n",
            "Epoch 35/50\n",
            "625/625 [==============================] - 5s 8ms/step - loss: 0.0035 - accuracy: 0.9989 - val_loss: 1.5692 - val_accuracy: 0.8219\n",
            "Epoch 36/50\n",
            "625/625 [==============================] - 5s 8ms/step - loss: 0.0013 - accuracy: 0.9995 - val_loss: 1.9127 - val_accuracy: 0.8201\n",
            "Epoch 37/50\n",
            "625/625 [==============================] - 5s 8ms/step - loss: 0.0011 - accuracy: 0.9996 - val_loss: 1.6876 - val_accuracy: 0.8241\n",
            "Epoch 38/50\n",
            "625/625 [==============================] - 5s 8ms/step - loss: 8.0916e-04 - accuracy: 0.9996 - val_loss: 1.9212 - val_accuracy: 0.8226\n",
            "Epoch 39/50\n",
            "625/625 [==============================] - 5s 8ms/step - loss: 7.2699e-04 - accuracy: 0.9996 - val_loss: 1.9673 - val_accuracy: 0.8207\n",
            "Epoch 40/50\n",
            "625/625 [==============================] - 5s 8ms/step - loss: 6.6438e-04 - accuracy: 0.9996 - val_loss: 2.3212 - val_accuracy: 0.8225\n",
            "Epoch 41/50\n",
            "625/625 [==============================] - 5s 8ms/step - loss: 0.0020 - accuracy: 0.9996 - val_loss: 2.0930 - val_accuracy: 0.8174\n",
            "Epoch 42/50\n",
            "625/625 [==============================] - 5s 8ms/step - loss: 0.0047 - accuracy: 0.9984 - val_loss: 1.5481 - val_accuracy: 0.8214\n",
            "Epoch 43/50\n",
            "625/625 [==============================] - 5s 8ms/step - loss: 0.0013 - accuracy: 0.9995 - val_loss: 1.6775 - val_accuracy: 0.8195\n",
            "Epoch 44/50\n",
            "625/625 [==============================] - 5s 8ms/step - loss: 9.0478e-04 - accuracy: 0.9995 - val_loss: 1.7550 - val_accuracy: 0.8201\n",
            "Epoch 45/50\n",
            "625/625 [==============================] - 5s 8ms/step - loss: 7.6678e-04 - accuracy: 0.9997 - val_loss: 1.9240 - val_accuracy: 0.8165\n",
            "Epoch 46/50\n",
            "625/625 [==============================] - 5s 8ms/step - loss: 5.9401e-04 - accuracy: 0.9995 - val_loss: 2.0233 - val_accuracy: 0.8180\n",
            "Epoch 47/50\n",
            "625/625 [==============================] - 5s 8ms/step - loss: 0.0010 - accuracy: 0.9998 - val_loss: 2.0868 - val_accuracy: 0.8158\n",
            "Epoch 48/50\n",
            "625/625 [==============================] - 5s 8ms/step - loss: 0.0030 - accuracy: 0.9990 - val_loss: 1.7690 - val_accuracy: 0.8097\n",
            "Epoch 49/50\n",
            "625/625 [==============================] - 5s 8ms/step - loss: 0.0022 - accuracy: 0.9994 - val_loss: 2.0457 - val_accuracy: 0.8109\n",
            "Epoch 50/50\n",
            "625/625 [==============================] - 5s 8ms/step - loss: 6.6109e-04 - accuracy: 0.9997 - val_loss: 1.9231 - val_accuracy: 0.8138\n"
          ],
          "name": "stdout"
        }
      ]
    },
    {
      "cell_type": "code",
      "metadata": {
        "id": "zXT-NSHwfsFD"
      },
      "source": [
        "model.save(\"LSTM_model.h5\")"
      ],
      "execution_count": null,
      "outputs": []
    },
    {
      "cell_type": "code",
      "metadata": {
        "id": "8UwoiYDVkLoy"
      },
      "source": [
        "from tensorflow.keras.models import load_model\n",
        "LSTM = load_model('LSTM_model.h5')"
      ],
      "execution_count": null,
      "outputs": []
    },
    {
      "cell_type": "code",
      "metadata": {
        "id": "bxEjZQ7GlJGK"
      },
      "source": [
        "sentence = 'I love those mustard stains on your oversized hoodie. They really bring out the color in your eyes'\n",
        "str(sentence)\n",
        "sarcasm = 'yes'\n",
        "\n",
        "if sarcasm == 'yes':\n",
        "    labels = int(1)\n",
        "else:\n",
        "    labels = int(0)\n",
        "word_tokenize = tokenizer.texts_to_sequences([sentence])\n",
        "inputtext = pad_sequences(word_tokenize, maxlen=20, padding='post', truncating='post')\n",
        "inputtext = np.array(inputtext)\n"
      ],
      "execution_count": null,
      "outputs": []
    },
    {
      "cell_type": "code",
      "metadata": {
        "id": "XPDXGpQzlgKj",
        "colab": {
          "base_uri": "https://localhost:8080/"
        },
        "outputId": "a965083f-b888-4853-9c8f-c3babc43452d"
      },
      "source": [
        "training_padded[0]"
      ],
      "execution_count": null,
      "outputs": [
        {
          "output_type": "execute_result",
          "data": {
            "text/plain": [
              "array([ 328,    1,  799, 3405, 2404,   47,  389, 2214,    1,    6, 2614,\n",
              "       8863,    0,    0,    0,    0,    0,    0,    0,    0], dtype=int32)"
            ]
          },
          "metadata": {
            "tags": []
          },
          "execution_count": 24
        }
      ]
    },
    {
      "cell_type": "code",
      "metadata": {
        "id": "zGuiIFCblmtn",
        "colab": {
          "base_uri": "https://localhost:8080/"
        },
        "outputId": "d5489a2d-98d3-4765-f471-fa4af0267e6f"
      },
      "source": [
        "training_labels"
      ],
      "execution_count": null,
      "outputs": [
        {
          "output_type": "execute_result",
          "data": {
            "text/plain": [
              "array([0, 0, 1, ..., 0, 0, 1])"
            ]
          },
          "metadata": {
            "tags": []
          },
          "execution_count": 26
        }
      ]
    },
    {
      "cell_type": "code",
      "metadata": {
        "id": "rPd-gSHLlsGs",
        "colab": {
          "base_uri": "https://localhost:8080/"
        },
        "outputId": "ba997b3c-8b21-4838-a36b-459bab50f887"
      },
      "source": [
        "inputtext"
      ],
      "execution_count": null,
      "outputs": [
        {
          "output_type": "execute_result",
          "data": {
            "text/plain": [
              "array([[  88,  137,  532,    1,    1,    8,   31,    1,    1,   94,  118,\n",
              "         776,   24,    4, 1049,    5,   31,  910,    0,    0]],\n",
              "      dtype=int32)"
            ]
          },
          "metadata": {
            "tags": []
          },
          "execution_count": 40
        }
      ]
    },
    {
      "cell_type": "code",
      "metadata": {
        "id": "leFH3-6Nl1zm",
        "colab": {
          "base_uri": "https://localhost:8080/"
        },
        "outputId": "36c65627-5e38-46b0-9972-6454ead57cbf"
      },
      "source": [
        "np.array([labels])"
      ],
      "execution_count": null,
      "outputs": [
        {
          "output_type": "execute_result",
          "data": {
            "text/plain": [
              "array([1])"
            ]
          },
          "metadata": {
            "tags": []
          },
          "execution_count": 43
        }
      ]
    },
    {
      "cell_type": "code",
      "metadata": {
        "id": "p9JIpsnylPmB",
        "colab": {
          "base_uri": "https://localhost:8080/"
        },
        "outputId": "50fe6039-783f-4335-86ca-b360a6d42f49"
      },
      "source": [
        "LSTM.fit(inputtext, np.array([labels]))"
      ],
      "execution_count": null,
      "outputs": [
        {
          "output_type": "stream",
          "text": [
            "1/1 [==============================] - 0s 2ms/step - loss: 24.6360 - accuracy: 0.0000e+00\n"
          ],
          "name": "stdout"
        },
        {
          "output_type": "execute_result",
          "data": {
            "text/plain": [
              "<tensorflow.python.keras.callbacks.History at 0x7f3bad7fcfd0>"
            ]
          },
          "metadata": {
            "tags": []
          },
          "execution_count": 44
        }
      ]
    },
    {
      "cell_type": "code",
      "metadata": {
        "id": "E42fMShNboPU",
        "colab": {
          "base_uri": "https://localhost:8080/",
          "height": 541
        },
        "outputId": "fd8dc6cc-c762-4e90-ee13-7213f599b0fd"
      },
      "source": [
        "# cek performa\n",
        "\n",
        "plot_graphs(history, 'accuracy')\n",
        "plot_graphs(history, 'loss')"
      ],
      "execution_count": null,
      "outputs": [
        {
          "output_type": "display_data",
          "data": {
            "image/png": "[encoded data removed]",
            "text/plain": [
              "<Figure size 432x288 with 1 Axes>"
            ]
          },
          "metadata": {
            "tags": [],
            "needs_background": "light"
          }
        },
        {
          "output_type": "display_data",
          "data": {
            "image/png": "[encoded data removed]",
            "text/plain": [
              "<Figure size 432x288 with 1 Axes>"
            ]
          },
          "metadata": {
            "tags": [],
            "needs_background": "light"
          }
        }
      ]
    },
    {
      "cell_type": "markdown",
      "metadata": {
        "id": "0sxue0m4b_mg"
      },
      "source": [
        "# Modeling GRU"
      ]
    },
    {
      "cell_type": "code",
      "metadata": {
        "id": "PQLLT3Lmb-dm",
        "colab": {
          "base_uri": "https://localhost:8080/"
        },
        "outputId": "340f86a6-ee6b-4182-e236-7536883355c1"
      },
      "source": [
        "model_gru = tf.keras.Sequential([\n",
        "    tf.keras.layers.Embedding(10000, 16, input_length=20),\n",
        "    tf.keras.layers.Bidirectional(tf.keras.layers.GRU(32)),\n",
        "    tf.keras.layers.Dense(6, activation='relu'),\n",
        "    tf.keras.layers.Dense(1, activation='sigmoid')\n",
        "])\n",
        "model_gru.compile(loss='binary_crossentropy',optimizer='adam',metrics=['accuracy'])\n",
        "\n",
        "num_epochs = 50\n",
        "history2 = model_gru.fit(training_padded, training_labels, epochs=num_epochs, validation_data=(testing_padded, testing_labels), verbose=1)\n",
        "\n",
        "#filename = 'GRU_model.pkl'\n",
        "#pickle.dump(model_gru, open(filename, 'wb'))"
      ],
      "execution_count": null,
      "outputs": [
        {
          "output_type": "stream",
          "text": [
            "Epoch 1/50\n",
            "625/625 [==============================] - 9s 14ms/step - loss: 0.4103 - accuracy: 0.7998 - val_loss: 0.3798 - val_accuracy: 0.8284\n",
            "Epoch 2/50\n",
            "625/625 [==============================] - 8s 13ms/step - loss: 0.2117 - accuracy: 0.9139 - val_loss: 0.3377 - val_accuracy: 0.8557\n",
            "Epoch 3/50\n",
            "625/625 [==============================] - 8s 13ms/step - loss: 0.1259 - accuracy: 0.9525 - val_loss: 0.4167 - val_accuracy: 0.8545\n",
            "Epoch 4/50\n",
            "625/625 [==============================] - 8s 14ms/step - loss: 0.0767 - accuracy: 0.9737 - val_loss: 0.5100 - val_accuracy: 0.8466\n",
            "Epoch 5/50\n",
            "625/625 [==============================] - 9s 14ms/step - loss: 0.0493 - accuracy: 0.9838 - val_loss: 0.6304 - val_accuracy: 0.8427\n",
            "Epoch 6/50\n",
            "625/625 [==============================] - 9s 15ms/step - loss: 0.0282 - accuracy: 0.9915 - val_loss: 0.8096 - val_accuracy: 0.8353\n",
            "Epoch 7/50\n",
            "625/625 [==============================] - 8s 12ms/step - loss: 0.0207 - accuracy: 0.9941 - val_loss: 0.7609 - val_accuracy: 0.8360\n",
            "Epoch 8/50\n",
            "625/625 [==============================] - 8s 13ms/step - loss: 0.0164 - accuracy: 0.9950 - val_loss: 0.9466 - val_accuracy: 0.8331\n",
            "Epoch 9/50\n",
            "625/625 [==============================] - 8s 12ms/step - loss: 0.0147 - accuracy: 0.9953 - val_loss: 1.0425 - val_accuracy: 0.8299\n",
            "Epoch 10/50\n",
            "625/625 [==============================] - 8s 13ms/step - loss: 0.0091 - accuracy: 0.9973 - val_loss: 1.1094 - val_accuracy: 0.8295\n",
            "Epoch 11/50\n",
            "625/625 [==============================] - 8s 13ms/step - loss: 0.0051 - accuracy: 0.9986 - val_loss: 1.1694 - val_accuracy: 0.8340\n",
            "Epoch 12/50\n",
            "625/625 [==============================] - 8s 13ms/step - loss: 0.0070 - accuracy: 0.9975 - val_loss: 1.2647 - val_accuracy: 0.8332\n",
            "Epoch 13/50\n",
            "625/625 [==============================] - 8s 13ms/step - loss: 0.0059 - accuracy: 0.9979 - val_loss: 1.3027 - val_accuracy: 0.8253\n",
            "Epoch 14/50\n",
            "625/625 [==============================] - 8s 13ms/step - loss: 0.0062 - accuracy: 0.9980 - val_loss: 1.2250 - val_accuracy: 0.8341\n",
            "Epoch 15/50\n",
            "625/625 [==============================] - 8s 13ms/step - loss: 0.0063 - accuracy: 0.9977 - val_loss: 1.2460 - val_accuracy: 0.8316\n",
            "Epoch 16/50\n",
            "625/625 [==============================] - 8s 13ms/step - loss: 0.0043 - accuracy: 0.9988 - val_loss: 1.2478 - val_accuracy: 0.8313\n",
            "Epoch 17/50\n",
            "625/625 [==============================] - 8s 13ms/step - loss: 0.0030 - accuracy: 0.9992 - val_loss: 1.3585 - val_accuracy: 0.8284\n",
            "Epoch 18/50\n",
            "625/625 [==============================] - 8s 13ms/step - loss: 0.0022 - accuracy: 0.9994 - val_loss: 1.3562 - val_accuracy: 0.8272\n",
            "Epoch 19/50\n",
            "625/625 [==============================] - 8s 13ms/step - loss: 0.0023 - accuracy: 0.9994 - val_loss: 1.3544 - val_accuracy: 0.8293\n",
            "Epoch 20/50\n",
            "625/625 [==============================] - 8s 13ms/step - loss: 0.0012 - accuracy: 0.9997 - val_loss: 1.4695 - val_accuracy: 0.8252\n",
            "Epoch 21/50\n",
            "625/625 [==============================] - 8s 13ms/step - loss: 0.0016 - accuracy: 0.9996 - val_loss: 1.4654 - val_accuracy: 0.8274\n",
            "Epoch 22/50\n",
            "625/625 [==============================] - 8s 13ms/step - loss: 0.0061 - accuracy: 0.9980 - val_loss: 1.1514 - val_accuracy: 0.8304\n",
            "Epoch 23/50\n",
            "625/625 [==============================] - 8s 13ms/step - loss: 0.0050 - accuracy: 0.9984 - val_loss: 1.3127 - val_accuracy: 0.8235\n",
            "Epoch 24/50\n",
            "625/625 [==============================] - 8s 13ms/step - loss: 0.0028 - accuracy: 0.9990 - val_loss: 1.4393 - val_accuracy: 0.8253\n",
            "Epoch 25/50\n",
            "625/625 [==============================] - 8s 13ms/step - loss: 0.0014 - accuracy: 0.9997 - val_loss: 1.4124 - val_accuracy: 0.8261\n",
            "Epoch 26/50\n",
            "625/625 [==============================] - 8s 13ms/step - loss: 0.0013 - accuracy: 0.9996 - val_loss: 1.4552 - val_accuracy: 0.8225\n",
            "Epoch 27/50\n",
            "625/625 [==============================] - 8s 13ms/step - loss: 0.0011 - accuracy: 0.9996 - val_loss: 1.6811 - val_accuracy: 0.8183\n",
            "Epoch 28/50\n",
            "625/625 [==============================] - 8s 13ms/step - loss: 0.0013 - accuracy: 0.9996 - val_loss: 1.5549 - val_accuracy: 0.8193\n",
            "Epoch 29/50\n",
            "625/625 [==============================] - 8s 13ms/step - loss: 0.0013 - accuracy: 0.9996 - val_loss: 1.5235 - val_accuracy: 0.8234\n",
            "Epoch 30/50\n",
            "625/625 [==============================] - 12s 20ms/step - loss: 0.0025 - accuracy: 0.9992 - val_loss: 1.4719 - val_accuracy: 0.8241\n",
            "Epoch 31/50\n",
            "625/625 [==============================] - 8s 13ms/step - loss: 0.0030 - accuracy: 0.9989 - val_loss: 1.3226 - val_accuracy: 0.8255\n",
            "Epoch 32/50\n",
            "625/625 [==============================] - 8s 12ms/step - loss: 0.0020 - accuracy: 0.9994 - val_loss: 1.3343 - val_accuracy: 0.8278\n",
            "Epoch 33/50\n",
            "625/625 [==============================] - 8s 13ms/step - loss: 0.0016 - accuracy: 0.9994 - val_loss: 1.3842 - val_accuracy: 0.8253\n",
            "Epoch 34/50\n",
            "625/625 [==============================] - 8s 12ms/step - loss: 0.0010 - accuracy: 0.9995 - val_loss: 1.4273 - val_accuracy: 0.8222\n",
            "Epoch 35/50\n",
            "625/625 [==============================] - 8s 12ms/step - loss: 7.5370e-04 - accuracy: 0.9997 - val_loss: 1.4846 - val_accuracy: 0.8223\n",
            "Epoch 36/50\n",
            "625/625 [==============================] - 8s 13ms/step - loss: 0.0012 - accuracy: 0.9995 - val_loss: 1.3933 - val_accuracy: 0.8232\n",
            "Epoch 37/50\n",
            "625/625 [==============================] - 8s 13ms/step - loss: 7.1595e-04 - accuracy: 0.9997 - val_loss: 1.4460 - val_accuracy: 0.8223\n",
            "Epoch 38/50\n",
            "625/625 [==============================] - 8s 13ms/step - loss: 0.0012 - accuracy: 0.9995 - val_loss: 1.4329 - val_accuracy: 0.8217\n",
            "Epoch 39/50\n",
            "625/625 [==============================] - 8s 13ms/step - loss: 0.0013 - accuracy: 0.9995 - val_loss: 1.3747 - val_accuracy: 0.8168\n",
            "Epoch 40/50\n",
            "625/625 [==============================] - 8s 13ms/step - loss: 0.0022 - accuracy: 0.9990 - val_loss: 1.4870 - val_accuracy: 0.8228\n",
            "Epoch 41/50\n",
            "625/625 [==============================] - 8s 13ms/step - loss: 0.0011 - accuracy: 0.9996 - val_loss: 1.4633 - val_accuracy: 0.8253\n",
            "Epoch 42/50\n",
            "625/625 [==============================] - 8s 13ms/step - loss: 7.5214e-04 - accuracy: 0.9996 - val_loss: 1.5554 - val_accuracy: 0.8211\n",
            "Epoch 43/50\n",
            "625/625 [==============================] - 8s 13ms/step - loss: 7.8617e-04 - accuracy: 0.9997 - val_loss: 1.4817 - val_accuracy: 0.8229\n",
            "Epoch 44/50\n",
            "625/625 [==============================] - 10s 15ms/step - loss: 8.8309e-04 - accuracy: 0.9995 - val_loss: 1.4674 - val_accuracy: 0.8205\n",
            "Epoch 45/50\n",
            "625/625 [==============================] - 8s 13ms/step - loss: 5.8358e-04 - accuracy: 0.9998 - val_loss: 1.5249 - val_accuracy: 0.8222\n",
            "Epoch 46/50\n",
            "625/625 [==============================] - 8s 13ms/step - loss: 7.2350e-04 - accuracy: 0.9997 - val_loss: 1.5126 - val_accuracy: 0.8225\n",
            "Epoch 47/50\n",
            "625/625 [==============================] - 8s 13ms/step - loss: 0.0010 - accuracy: 0.9995 - val_loss: 1.8173 - val_accuracy: 0.8159\n",
            "Epoch 48/50\n",
            "625/625 [==============================] - 8s 13ms/step - loss: 0.0016 - accuracy: 0.9995 - val_loss: 1.5198 - val_accuracy: 0.8228\n",
            "Epoch 49/50\n",
            "625/625 [==============================] - 8s 13ms/step - loss: 6.5983e-04 - accuracy: 0.9997 - val_loss: 1.4928 - val_accuracy: 0.8225\n",
            "Epoch 50/50\n",
            "625/625 [==============================] - 8s 13ms/step - loss: 4.9530e-04 - accuracy: 0.9998 - val_loss: 1.5333 - val_accuracy: 0.8220\n"
          ],
          "name": "stdout"
        }
      ]
    },
    {
      "cell_type": "code",
      "metadata": {
        "id": "V_x8kLIrhQy5"
      },
      "source": [
        "model_gru.save(\"GRU_model.h5\")"
      ],
      "execution_count": null,
      "outputs": []
    },
    {
      "cell_type": "code",
      "metadata": {
        "id": "-mH9RzKIfGMq",
        "colab": {
          "base_uri": "https://localhost:8080/",
          "height": 541
        },
        "outputId": "636f9c87-87a4-4538-cee9-61c70409f6fe"
      },
      "source": [
        "# cek performa\n",
        "\n",
        "plot_graphs(history2, 'accuracy')\n",
        "plot_graphs(history2, 'loss')"
      ],
      "execution_count": null,
      "outputs": [
        {
          "output_type": "display_data",
          "data": {
            "image/png": "[encoded data removed]",
            "text/plain": [
              "<Figure size 432x288 with 1 Axes>"
            ]
          },
          "metadata": {
            "tags": [],
            "needs_background": "light"
          }
        },
        {
          "output_type": "display_data",
          "data": {
            "image/png": "[encoded data removed]",
            "text/plain": [
              "<Figure size 432x288 with 1 Axes>"
            ]
          },
          "metadata": {
            "tags": [],
            "needs_background": "light"
          }
        }
      ]
    },
    {
      "cell_type": "markdown",
      "metadata": {
        "id": "qC1NvmBMgc4X"
      },
      "source": [
        "## Modeling CNN"
      ]
    },
    {
      "cell_type": "code",
      "metadata": {
        "id": "GLkbwXbZgGJl",
        "colab": {
          "base_uri": "https://localhost:8080/"
        },
        "outputId": "991cf7c5-c5b8-4838-e5f0-cb24fe984731"
      },
      "source": [
        "model_cnn = tf.keras.Sequential([\n",
        "    tf.keras.layers.Embedding(10000, 16, input_length=20),\n",
        "    tf.keras.layers.Conv1D(128, 5, activation='relu'),\n",
        "    tf.keras.layers.GlobalAveragePooling1D(),\n",
        "    tf.keras.layers.Dense(6, activation='relu'),\n",
        "    tf.keras.layers.Dense(1, activation='sigmoid')\n",
        "])\n",
        "model_cnn.compile(loss='binary_crossentropy',optimizer='adam',metrics=['accuracy'])\n",
        "history3 = model_cnn.fit(training_padded, training_labels, epochs=num_epochs, validation_data=(testing_padded, testing_labels), verbose=1)\n",
        "\n",
        "#filename = 'CNN_model.pkl'\n",
        "#pickle.dump(model_cnn, open(filename, 'wb'))"
      ],
      "execution_count": null,
      "outputs": [
        {
          "output_type": "stream",
          "text": [
            "Epoch 1/50\n",
            "625/625 [==============================] - 4s 6ms/step - loss: 0.4479 - accuracy: 0.7772 - val_loss: 0.3538 - val_accuracy: 0.8456\n",
            "Epoch 2/50\n",
            "625/625 [==============================] - 4s 6ms/step - loss: 0.2432 - accuracy: 0.8982 - val_loss: 0.3521 - val_accuracy: 0.8533\n",
            "Epoch 3/50\n",
            "625/625 [==============================] - 4s 6ms/step - loss: 0.1688 - accuracy: 0.9358 - val_loss: 0.3979 - val_accuracy: 0.8460\n",
            "Epoch 4/50\n",
            "625/625 [==============================] - 4s 6ms/step - loss: 0.1173 - accuracy: 0.9571 - val_loss: 0.4529 - val_accuracy: 0.8404\n",
            "Epoch 5/50\n",
            "625/625 [==============================] - 4s 6ms/step - loss: 0.0764 - accuracy: 0.9746 - val_loss: 0.5461 - val_accuracy: 0.8374\n",
            "Epoch 6/50\n",
            "625/625 [==============================] - 4s 6ms/step - loss: 0.0497 - accuracy: 0.9837 - val_loss: 0.6664 - val_accuracy: 0.8317\n",
            "Epoch 7/50\n",
            "625/625 [==============================] - 4s 6ms/step - loss: 0.0301 - accuracy: 0.9913 - val_loss: 0.7660 - val_accuracy: 0.8310\n",
            "Epoch 8/50\n",
            "625/625 [==============================] - 4s 6ms/step - loss: 0.0180 - accuracy: 0.9949 - val_loss: 0.8675 - val_accuracy: 0.8307\n",
            "Epoch 9/50\n",
            "625/625 [==============================] - 4s 6ms/step - loss: 0.0114 - accuracy: 0.9971 - val_loss: 0.9591 - val_accuracy: 0.8286\n",
            "Epoch 10/50\n",
            "625/625 [==============================] - 4s 6ms/step - loss: 0.0071 - accuracy: 0.9979 - val_loss: 1.0849 - val_accuracy: 0.8325\n",
            "Epoch 11/50\n",
            "625/625 [==============================] - 4s 6ms/step - loss: 0.0059 - accuracy: 0.9982 - val_loss: 1.2087 - val_accuracy: 0.8207\n",
            "Epoch 12/50\n",
            "625/625 [==============================] - 4s 6ms/step - loss: 0.0065 - accuracy: 0.9977 - val_loss: 1.2608 - val_accuracy: 0.8243\n",
            "Epoch 13/50\n",
            "625/625 [==============================] - 4s 6ms/step - loss: 0.0075 - accuracy: 0.9973 - val_loss: 1.2736 - val_accuracy: 0.8286\n",
            "Epoch 14/50\n",
            "625/625 [==============================] - 4s 6ms/step - loss: 0.0034 - accuracy: 0.9989 - val_loss: 1.3338 - val_accuracy: 0.8253\n",
            "Epoch 15/50\n",
            "625/625 [==============================] - 4s 6ms/step - loss: 0.0023 - accuracy: 0.9993 - val_loss: 1.4018 - val_accuracy: 0.8274\n",
            "Epoch 16/50\n",
            "625/625 [==============================] - 5s 7ms/step - loss: 0.0020 - accuracy: 0.9992 - val_loss: 1.4328 - val_accuracy: 0.8267\n",
            "Epoch 17/50\n",
            "625/625 [==============================] - 5s 7ms/step - loss: 0.0015 - accuracy: 0.9995 - val_loss: 1.5058 - val_accuracy: 0.8240\n",
            "Epoch 18/50\n",
            "625/625 [==============================] - 4s 6ms/step - loss: 0.0012 - accuracy: 0.9994 - val_loss: 1.5680 - val_accuracy: 0.8196\n",
            "Epoch 19/50\n",
            "625/625 [==============================] - 4s 6ms/step - loss: 0.0032 - accuracy: 0.9991 - val_loss: 1.6680 - val_accuracy: 0.8211\n",
            "Epoch 20/50\n",
            "625/625 [==============================] - 4s 6ms/step - loss: 0.0067 - accuracy: 0.9977 - val_loss: 1.5694 - val_accuracy: 0.8240\n",
            "Epoch 21/50\n",
            "625/625 [==============================] - 4s 6ms/step - loss: 0.0045 - accuracy: 0.9985 - val_loss: 1.5739 - val_accuracy: 0.8226\n",
            "Epoch 22/50\n",
            "625/625 [==============================] - 4s 6ms/step - loss: 0.0024 - accuracy: 0.9991 - val_loss: 1.6151 - val_accuracy: 0.8256\n",
            "Epoch 23/50\n",
            "625/625 [==============================] - 4s 6ms/step - loss: 0.0016 - accuracy: 0.9995 - val_loss: 1.6336 - val_accuracy: 0.8210\n",
            "Epoch 24/50\n",
            "625/625 [==============================] - 4s 6ms/step - loss: 0.0021 - accuracy: 0.9991 - val_loss: 1.6219 - val_accuracy: 0.8249\n",
            "Epoch 25/50\n",
            "625/625 [==============================] - 4s 6ms/step - loss: 9.4710e-04 - accuracy: 0.9997 - val_loss: 1.6731 - val_accuracy: 0.8247\n",
            "Epoch 26/50\n",
            "625/625 [==============================] - 4s 6ms/step - loss: 8.6689e-04 - accuracy: 0.9996 - val_loss: 1.6894 - val_accuracy: 0.8207\n",
            "Epoch 27/50\n",
            "625/625 [==============================] - 4s 6ms/step - loss: 5.8476e-04 - accuracy: 0.9997 - val_loss: 1.7492 - val_accuracy: 0.8211\n",
            "Epoch 28/50\n",
            "625/625 [==============================] - 4s 6ms/step - loss: 6.2668e-04 - accuracy: 0.9995 - val_loss: 1.7694 - val_accuracy: 0.8207\n",
            "Epoch 29/50\n",
            "625/625 [==============================] - 4s 6ms/step - loss: 6.1697e-04 - accuracy: 0.9997 - val_loss: 1.8251 - val_accuracy: 0.8190\n",
            "Epoch 30/50\n",
            "625/625 [==============================] - 4s 6ms/step - loss: 0.0011 - accuracy: 0.9995 - val_loss: 1.9869 - val_accuracy: 0.8170\n",
            "Epoch 31/50\n",
            "625/625 [==============================] - 4s 6ms/step - loss: 0.0027 - accuracy: 0.9991 - val_loss: 1.8678 - val_accuracy: 0.8190\n",
            "Epoch 32/50\n",
            "625/625 [==============================] - 4s 7ms/step - loss: 0.0018 - accuracy: 0.9995 - val_loss: 1.9028 - val_accuracy: 0.8182\n",
            "Epoch 33/50\n",
            "625/625 [==============================] - 4s 6ms/step - loss: 0.0010 - accuracy: 0.9996 - val_loss: 1.8773 - val_accuracy: 0.8241\n",
            "Epoch 34/50\n",
            "625/625 [==============================] - 4s 6ms/step - loss: 5.5959e-04 - accuracy: 0.9998 - val_loss: 1.9957 - val_accuracy: 0.8228\n",
            "Epoch 35/50\n",
            "625/625 [==============================] - 4s 6ms/step - loss: 5.3430e-04 - accuracy: 0.9997 - val_loss: 1.9908 - val_accuracy: 0.8164\n",
            "Epoch 36/50\n",
            "625/625 [==============================] - 4s 6ms/step - loss: 5.0972e-04 - accuracy: 0.9996 - val_loss: 2.0198 - val_accuracy: 0.8183\n",
            "Epoch 37/50\n",
            "625/625 [==============================] - 4s 6ms/step - loss: 4.0546e-04 - accuracy: 0.9998 - val_loss: 2.0650 - val_accuracy: 0.8190\n",
            "Epoch 38/50\n",
            "625/625 [==============================] - 3s 5ms/step - loss: 5.3312e-04 - accuracy: 0.9997 - val_loss: 2.0593 - val_accuracy: 0.8161\n",
            "Epoch 39/50\n",
            "625/625 [==============================] - 3s 6ms/step - loss: 4.7866e-04 - accuracy: 0.9997 - val_loss: 2.1185 - val_accuracy: 0.8170\n",
            "Epoch 40/50\n",
            "625/625 [==============================] - 3s 6ms/step - loss: 7.6464e-04 - accuracy: 0.9995 - val_loss: 2.1703 - val_accuracy: 0.8153\n",
            "Epoch 41/50\n",
            "625/625 [==============================] - 4s 6ms/step - loss: 0.0010 - accuracy: 0.9995 - val_loss: 2.1264 - val_accuracy: 0.8143\n",
            "Epoch 42/50\n",
            "625/625 [==============================] - 4s 6ms/step - loss: 0.0028 - accuracy: 0.9990 - val_loss: 2.1697 - val_accuracy: 0.8183\n",
            "Epoch 43/50\n",
            "625/625 [==============================] - 4s 6ms/step - loss: 0.0010 - accuracy: 0.9995 - val_loss: 2.2387 - val_accuracy: 0.8170\n",
            "Epoch 44/50\n",
            "625/625 [==============================] - 3s 5ms/step - loss: 5.9955e-04 - accuracy: 0.9997 - val_loss: 2.2010 - val_accuracy: 0.8192\n",
            "Epoch 45/50\n",
            "625/625 [==============================] - 4s 6ms/step - loss: 4.3256e-04 - accuracy: 0.9998 - val_loss: 2.2236 - val_accuracy: 0.8183\n",
            "Epoch 46/50\n",
            "625/625 [==============================] - 3s 5ms/step - loss: 4.3543e-04 - accuracy: 0.9998 - val_loss: 2.2544 - val_accuracy: 0.8183\n",
            "Epoch 47/50\n",
            "625/625 [==============================] - 3s 5ms/step - loss: 4.1596e-04 - accuracy: 0.9997 - val_loss: 2.2821 - val_accuracy: 0.8183\n",
            "Epoch 48/50\n",
            "625/625 [==============================] - 4s 6ms/step - loss: 4.1753e-04 - accuracy: 0.9997 - val_loss: 2.3068 - val_accuracy: 0.8177\n",
            "Epoch 49/50\n",
            "625/625 [==============================] - 4s 6ms/step - loss: 4.2291e-04 - accuracy: 0.9998 - val_loss: 2.3233 - val_accuracy: 0.8176\n",
            "Epoch 50/50\n",
            "625/625 [==============================] - 4s 6ms/step - loss: 4.3311e-04 - accuracy: 0.9997 - val_loss: 2.3049 - val_accuracy: 0.8162\n"
          ],
          "name": "stdout"
        }
      ]
    },
    {
      "cell_type": "code",
      "metadata": {
        "id": "v-Q1y2_Vha7j"
      },
      "source": [
        "model_cnn.save(\"CNN_model.h5\")"
      ],
      "execution_count": null,
      "outputs": []
    },
    {
      "cell_type": "code",
      "metadata": {
        "id": "6Vo9TXr0gjOg",
        "colab": {
          "base_uri": "https://localhost:8080/",
          "height": 541
        },
        "outputId": "cb1797c5-4407-4208-cd64-06a4ef58d730"
      },
      "source": [
        "# cek performa\n",
        "\n",
        "plot_graphs(history3, 'accuracy')\n",
        "plot_graphs(history3, 'loss')"
      ],
      "execution_count": null,
      "outputs": [
        {
          "output_type": "display_data",
          "data": {
            "image/png": "[encoded data removed]",
            "text/plain": [
              "<Figure size 432x288 with 1 Axes>"
            ]
          },
          "metadata": {
            "tags": [],
            "needs_background": "light"
          }
        },
        {
          "output_type": "display_data",
          "data": {
            "image/png": "[encoded data removed]",
            "text/plain": [
              "<Figure size 432x288 with 1 Axes>"
            ]
          },
          "metadata": {
            "tags": [],
            "needs_background": "light"
          }
        }
      ]
    },
    {
      "cell_type": "code",
      "metadata": {
        "id": "Qe9HrqJTYzig",
        "colab": {
          "base_uri": "https://localhost:8080/"
        },
        "outputId": "fba0cc38-a9cb-4076-ca3d-cd02b68bef2d"
      },
      "source": [
        "#check\n",
        "kalimat = \"I love you dude\"\n",
        "word_tokenize = tokenizer.texts_to_sequences([kalimat])\n",
        "input = pad_sequences(word_tokenize, maxlen=20, padding='post', truncating='post')\n",
        "input = np.array(input)\n",
        "value = model.predict(input)[0][0]*100\n",
        "statement = str('Tingkat sarkasme '+\"{:.2f}\".format(value)+'%')\n",
        "\n",
        "if value>50:\n",
        "  print('Termasuk kalimat sarkas,', statement)\n",
        "else:\n",
        "  print('Bukan kalimat sarkas,', statement)"
      ],
      "execution_count": null,
      "outputs": [
        {
          "output_type": "stream",
          "text": [
            "Bukan kalimat sarkas, Tingkat sarkasme 0.00%\n"
          ],
          "name": "stdout"
        }
      ]
    },
    {
      "cell_type": "code",
      "metadata": {
        "id": "-B3Firfiyuth"
      },
      "source": [
        "#dataset[-100:]"
      ],
      "execution_count": null,
      "outputs": []
    },
    {
      "cell_type": "code",
      "metadata": {
        "id": "q_8hrCz7_bhr",
        "colab": {
          "base_uri": "https://localhost:8080/"
        },
        "outputId": "79a91f69-e07b-4632-bd97-d853d7916cf4"
      },
      "source": [
        "word_tokenize"
      ],
      "execution_count": null,
      "outputs": [
        {
          "output_type": "execute_result",
          "data": {
            "text/plain": [
              "[[88, 137, 18, 4173]]"
            ]
          },
          "metadata": {
            "tags": []
          },
          "execution_count": 69
        }
      ]
    }
  ]
}